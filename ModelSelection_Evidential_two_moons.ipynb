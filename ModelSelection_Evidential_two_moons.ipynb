{
 "cells": [
  {
   "cell_type": "code",
   "execution_count": 5,
   "metadata": {},
   "outputs": [
    {
     "name": "stdout",
     "output_type": "stream",
     "text": [
      "1.15.0\n"
     ]
    }
   ],
   "source": [
    "import tensorflow as tf\n",
    "print(tf.__version__)\n",
    "from tensorflow.keras.regularizers import l2\n",
    "from tensorflow.keras.utils import to_categorical\n",
    "import tensorflow.contrib.eager as tfe\n",
    "from functools import partial\n",
    "import pandas as pd\n",
    "import seaborn as sns\n",
    "import matplotlib.pyplot as plt\n",
    "\n",
    "from sklearn.calibration import calibration_curve\n",
    "import sklearn.datasets\n",
    "import matplotlib.tri as tri\n",
    "from scipy.special import betaln\n",
    "from scipy.stats import beta, norm\n",
    "from scipy import stats\n",
    "from scipy.special import gamma as gamma_fun\n",
    "import scipy.special as spec\n",
    "import matplotlib.pyplot as plt\n",
    "from tqdm import tqdm_notebook as tqdm\n",
    "import numpy as np\n",
    "np.set_printoptions(suppress=True)\n",
    "\n",
    "\n",
    "from deep_bayes.models import DeepEvidentialModel\n",
    "from deep_bayes.settings import EVIDENTIAL_BF\n",
    "from deep_bayes.training import train_online\n",
    "from deep_bayes.losses import log_loss\n",
    "from deep_bayes.diagnostics import accuracy, expected_calibration_error\n",
    "from deep_bayes.viz import plot_model_samples, plot_confusion_matrix"
   ]
  },
  {
   "cell_type": "code",
   "execution_count": 6,
   "metadata": {},
   "outputs": [
    {
     "name": "stdout",
     "output_type": "stream",
     "text": [
      "The autoreload extension is already loaded. To reload it, use:\n",
      "  %reload_ext autoreload\n"
     ]
    }
   ],
   "source": [
    "%load_ext autoreload\n",
    "%autoreload 2\n",
    "\n",
    "tf.enable_eager_execution()\n",
    "\n",
    "%matplotlib inline"
   ]
  },
  {
   "cell_type": "code",
   "execution_count": 7,
   "metadata": {},
   "outputs": [
    {
     "name": "stderr",
     "output_type": "stream",
     "text": [
      "'c' argument looks like a single numeric RGB or RGBA sequence, which should be avoided as value-mapping will have precedence in case its length matches with 'x' & 'y'.  Please use a 2-D array with a single row if you really want to specify the same RGB or RGBA value for all points.\n"
     ]
    },
    {
     "data": {
      "text/plain": [
       "<matplotlib.collections.PathCollection at 0x14e164ad0>"
      ]
     },
     "execution_count": 7,
     "metadata": {},
     "output_type": "execute_result"
    },
    {
     "data": {
      "image/png": "[encoded data removed]",
      "text/plain": [
       "<Figure size 432x288 with 1 Axes>"
      ]
     },
     "metadata": {
      "needs_background": "light"
     },
     "output_type": "display_data"
    }
   ],
   "source": [
    "noise = 0.1\n",
    "samples, label = sklearn.datasets.make_moons(n_samples=1000, shuffle=False, noise=noise)\n",
    "x = samples[:,0]\n",
    "y = samples[:, 1]\n",
    "colors = (0,0,0)\n",
    "plt.xlim(-3, 3)\n",
    "plt.ylim(-3, 3)\n",
    "plt.scatter(x, y, c=colors, alpha=0.5)\n"
   ]
  },
  {
   "cell_type": "code",
   "execution_count": 8,
   "metadata": {},
   "outputs": [],
   "source": [
    "def model_prior(batch_size, n_models, p_vals=None):\n",
    "    \"\"\"\n",
    "    Samples from the models' prior batch size times and converts to one-hot.\n",
    "    Assumes equal model priors.\n",
    "    ----------\n",
    "    \n",
    "    Arguments:\n",
    "    batch_size : int  -- the number of samples to draw from the prior\n",
    "    n_models   : int  -- the number of generative models in queston\n",
    "    ----------\n",
    "    \n",
    "    Returns:\n",
    "    m_true : np.ndarray of shape (batch_size, theta_dim) -- the samples batch of parameters\n",
    "    \"\"\"\n",
    "    \n",
    "    # Equal priors, if nothign specified\n",
    "    if p_vals is None:\n",
    "        p_vals = [1/n_models] * n_models\n",
    "    m_idx = np.random.choice(n_models, size=batch_size, p=p_vals).astype(np.int32)\n",
    "    return m_idx"
   ]
  },
  {
   "cell_type": "code",
   "execution_count": 9,
   "metadata": {},
   "outputs": [],
   "source": [
    "def moonA(n_samples):\n",
    "    x, y = sklearn.datasets.make_moons(n_samples=2*n_samples, shuffle=False, noise=noise)\n",
    "    return x[0:n_samples]\n",
    "\n",
    "def moonB(n_samples):\n",
    "    x, y = sklearn.datasets.make_moons(n_samples=2*n_samples, shuffle=False, noise=noise)\n",
    "    return x[n_samples:]"
   ]
  },
  {
   "cell_type": "code",
   "execution_count": 10,
   "metadata": {},
   "outputs": [
    {
     "name": "stderr",
     "output_type": "stream",
     "text": [
      "'c' argument looks like a single numeric RGB or RGBA sequence, which should be avoided as value-mapping will have precedence in case its length matches with 'x' & 'y'.  Please use a 2-D array with a single row if you really want to specify the same RGB or RGBA value for all points.\n"
     ]
    },
    {
     "name": "stdout",
     "output_type": "stream",
     "text": [
      "(100, 2)\n"
     ]
    },
    {
     "data": {
      "text/plain": [
       "<matplotlib.collections.PathCollection at 0x14e1ec950>"
      ]
     },
     "execution_count": 10,
     "metadata": {},
     "output_type": "execute_result"
    },
    {
     "data": {
      "image/png": "[encoded data removed]",
      "text/plain": [
       "<Figure size 432x288 with 1 Axes>"
      ]
     },
     "metadata": {
      "needs_background": "light"
     },
     "output_type": "display_data"
    }
   ],
   "source": [
    "a = moonA(100)\n",
    "print(a.shape)\n",
    "x = a[:,0]\n",
    "y = a[:, 1]\n",
    "colors = (0,0,0)\n",
    "plt.xlim(-3, 3)\n",
    "plt.ylim(-3, 3)\n",
    "plt.scatter(x, y, c=colors, alpha=0.5)"
   ]
  },
  {
   "cell_type": "code",
   "execution_count": 11,
   "metadata": {},
   "outputs": [],
   "source": [
    "def data_generator(batch_size, model_prior, forward_models, alpha_smooth=None,\n",
    "                   n_obs=None, n_obs_min=100, n_obs_max=500, to_tensor=True, **args):\n",
    "    \"\"\"\n",
    "    Runs the forward model 'batch_size' times by first sampling fromt the prior\n",
    "    theta ~ p(theta) and running x ~ p(x|theta).\n",
    "    ----------\n",
    "    \n",
    "    Arguments:\n",
    "    batch_size     : int -- the number of samples to draw from the prior\n",
    "    model_prior    : callable -- the prior which returns a sample of model indices\n",
    "    param_priors   : list of callables -- a list with model prior samplers\n",
    "    forward_models : list of generative models g(theta) -- a list of generatibve models\n",
    "    n_obs          : int -- the numebr of observations to draw from p(x|theta)\n",
    "    n_obs_min      : int -- used when n_obs is None, draws n_obs ~ U(n_obs_min, n_obs_max)\n",
    "    n_obs_max      : int -- used when n_obs is None, draws n_obs ~ U(n_obs_min, n_obs_max)\n",
    "    to_tensor      : boolean -- converts theta and x to tensors if True\n",
    "    ----------\n",
    "    \n",
    "    Output:\n",
    "    m     : tf.Tensor or np.ndarray of shape (batch_size, n_models) - the one-hot encoded version of the models\n",
    "    theta : tf.Tensor or np.ndarray of shape (batch_size, theta_dim) - the data gen parameters \n",
    "    x     : tf.Tensor of np.ndarray of shape (batch_size, n_obs, x_dim)  - the generated data\n",
    "    \"\"\"\n",
    "    \n",
    "    # Sample from model prior\n",
    "    # m_indices is an np.int32 array of model indices  \n",
    "    n_models = len(forward_models)\n",
    "    m_indices = model_prior(batch_size, n_models)\n",
    "    n_obs = 100\n",
    "    # Sample N, if not specified\n",
    "    if n_obs is None:\n",
    "        n_obs = np.random.randint(low=n_obs_min, high=n_obs_max+1)\n",
    "    \n",
    "    # For each model index, sample from prior and run generative model.\n",
    "    x = []\n",
    "    theta = []\n",
    "    for m_idx in m_indices:\n",
    "        \n",
    "        # Generate data from x = g_m(theta) <=> x ~ p(x|theta,m)\n",
    "        x_m = forward_models[m_idx](n_obs)\n",
    "        # Store data and params\n",
    "        x.append(x_m.reshape(-1, 2))\n",
    "#         theta.append(theta_m)\n",
    "    \n",
    "    # One-hot encode model indices\n",
    "    m = to_categorical(m_indices, num_classes=n_models)\n",
    "    \n",
    "    # Apply label smoothing, if specified\n",
    "    if alpha_smooth is not None:\n",
    "        m = m * (1 - alpha_smooth) + alpha_smooth / n_models    \n",
    "    # Convert to tensor, if specified \n",
    "    if to_tensor:\n",
    "#         theta = tf.convert_to_tensor(theta, dtype=tf.float32)\n",
    "        x = tf.convert_to_tensor(x, dtype=tf.float32)\n",
    "        m = tf.convert_to_tensor(m, dtype=tf.float32)\n",
    "#     print(x.shape)    \n",
    "    return {'m': m, 'x': x}"
   ]
  },
  {
   "cell_type": "code",
   "execution_count": 18,
   "metadata": {},
   "outputs": [],
   "source": [
    "#--- Training hyperparameters ---#\n",
    "n_obs = 1000\n",
    "n_test = 500\n",
    "n_cal = 5000\n",
    "alpha_smooth = None\n",
    "epochs = 50\n",
    "iterations_per_epoch = 100\n",
    "\n",
    "\n",
    "batch_size = 64\n",
    "ckpt_file = 'toy_two_moons_test'\n",
    "\n",
    "#--- Optimizer hyperparameters ---#\n",
    "starter_learning_rate = 0.001\n",
    "decay_steps = 100\n",
    "decay_rate = .95\n",
    "\n",
    "#--- Data generation ---#\n",
    "# model_names = ['Model 1', 'Model 2']\n",
    "# param_priors = [beta_wide_prior, beta_sharp_prior]\n",
    "forward_models = [moonA, moonB]\n",
    "data_gen = partial(data_generator, \n",
    "                   model_prior=model_prior, \n",
    "                   forward_models=forward_models,\n",
    "                   n_obs=n_obs,\n",
    "                   alpha_smooth=alpha_smooth)\n",
    "\n",
    "\n",
    "# --- Optimizer --- #\n",
    "global_step = tf.Variable(0, dtype=tf.int32)\n",
    "learning_rate = tf.train.exponential_decay(starter_learning_rate, global_step, \n",
    "                                           decay_steps, decay_rate, staircase=True)\n",
    "optimizer = tf.train.AdamOptimizer(learning_rate=learning_rate)"
   ]
  },
  {
   "cell_type": "code",
   "execution_count": 19,
   "metadata": {},
   "outputs": [],
   "source": [
    "model = DeepEvidentialModel(EVIDENTIAL_BF)"
   ]
  },
  {
   "cell_type": "code",
   "execution_count": 20,
   "metadata": {},
   "outputs": [
    {
     "name": "stdout",
     "output_type": "stream",
     "text": [
      "Initializing from scratch.\n"
     ]
    }
   ],
   "source": [
    "checkpoint = tf.train.Checkpoint(step=global_step, optimizer=optimizer, net=model)\n",
    "manager = tf.train.CheckpointManager(checkpoint, './checkpoints/{}'.format(ckpt_file), max_to_keep=2)\n",
    "checkpoint.restore(manager.latest_checkpoint)\n",
    "if manager.latest_checkpoint:\n",
    "    print(\"Restored from {}\".format(manager.latest_checkpoint))\n",
    "else:\n",
    "    print(\"Initializing from scratch.\")"
   ]
  },
  {
   "cell_type": "code",
   "execution_count": 21,
   "metadata": {},
   "outputs": [
    {
     "name": "stderr",
     "output_type": "stream",
     "text": [
      "/usr/local/lib/python3.7/site-packages/ipykernel_launcher.py:2: TqdmDeprecationWarning: This function will be removed in tqdm==5.0.0\n",
      "Please use `tqdm.notebook.tqdm` instead of `tqdm.tqdm_notebook`\n",
      "  \n"
     ]
    },
    {
     "data": {
      "application/vnd.jupyter.widget-view+json": {
       "model_id": "7a2211da64ed43ba892e2d57156d34df",
       "version_major": 2,
       "version_minor": 0
      },
      "text/plain": [
       "HBox(children=(FloatProgress(value=0.0, description='Training epoch 1', style=ProgressStyle(description_width=…"
      ]
     },
     "metadata": {},
     "output_type": "display_data"
    },
    {
     "name": "stdout",
     "output_type": "stream",
     "text": [
      "\n"
     ]
    },
    {
     "ename": "KeyboardInterrupt",
     "evalue": "",
     "output_type": "error",
     "traceback": [
      "\u001b[0;31m---------------------------------------------------------------------------\u001b[0m",
      "\u001b[0;31mKeyboardInterrupt\u001b[0m                         Traceback (most recent call last)",
      "\u001b[0;32m<ipython-input-21-9560f375924e>\u001b[0m in \u001b[0;36m<module>\u001b[0;34m\u001b[0m\n\u001b[1;32m      9\u001b[0m                               \u001b[0mp_bar\u001b[0m\u001b[0;34m=\u001b[0m\u001b[0mp_bar\u001b[0m\u001b[0;34m,\u001b[0m\u001b[0;34m\u001b[0m\u001b[0;34m\u001b[0m\u001b[0m\n\u001b[1;32m     10\u001b[0m                               \u001b[0mglobal_step\u001b[0m\u001b[0;34m=\u001b[0m\u001b[0mglobal_step\u001b[0m\u001b[0;34m,\u001b[0m\u001b[0;34m\u001b[0m\u001b[0;34m\u001b[0m\u001b[0m\n\u001b[0;32m---> 11\u001b[0;31m                               method='evidence')\n\u001b[0m\u001b[1;32m     12\u001b[0m         \u001b[0mmanager\u001b[0m\u001b[0;34m.\u001b[0m\u001b[0msave\u001b[0m\u001b[0;34m(\u001b[0m\u001b[0;34m)\u001b[0m\u001b[0;34m\u001b[0m\u001b[0;34m\u001b[0m\u001b[0m\n",
      "\u001b[0;32m~/Projects/Intern/BayesFlow/deep_bayes/training.py\u001b[0m in \u001b[0;36mtrain_online\u001b[0;34m(model, optimizer, data_gen, loss_fun, iterations, batch_size, p_bar, clip_value, clip_method, global_step, n_smooth, method)\u001b[0m\n\u001b[1;32m     87\u001b[0m \u001b[0;34m\u001b[0m\u001b[0m\n\u001b[1;32m     88\u001b[0m         \u001b[0;31m# One step backprop\u001b[0m\u001b[0;34m\u001b[0m\u001b[0;34m\u001b[0m\u001b[0;34m\u001b[0m\u001b[0m\n\u001b[0;32m---> 89\u001b[0;31m         \u001b[0mgradients\u001b[0m \u001b[0;34m=\u001b[0m \u001b[0mtape\u001b[0m\u001b[0;34m.\u001b[0m\u001b[0mgradient\u001b[0m\u001b[0;34m(\u001b[0m\u001b[0mtotal_loss\u001b[0m\u001b[0;34m,\u001b[0m \u001b[0mmodel\u001b[0m\u001b[0;34m.\u001b[0m\u001b[0mtrainable_variables\u001b[0m\u001b[0;34m)\u001b[0m\u001b[0;34m\u001b[0m\u001b[0;34m\u001b[0m\u001b[0m\n\u001b[0m\u001b[1;32m     90\u001b[0m         \u001b[0;32mif\u001b[0m \u001b[0mclip_value\u001b[0m \u001b[0;32mis\u001b[0m \u001b[0;32mnot\u001b[0m \u001b[0;32mNone\u001b[0m\u001b[0;34m:\u001b[0m\u001b[0;34m\u001b[0m\u001b[0;34m\u001b[0m\u001b[0m\n\u001b[1;32m     91\u001b[0m             \u001b[0mgradients\u001b[0m \u001b[0;34m=\u001b[0m \u001b[0mclip_gradients\u001b[0m\u001b[0;34m(\u001b[0m\u001b[0mgradients\u001b[0m\u001b[0;34m,\u001b[0m \u001b[0mclip_value\u001b[0m\u001b[0;34m,\u001b[0m \u001b[0mclip_method\u001b[0m\u001b[0;34m)\u001b[0m\u001b[0;34m\u001b[0m\u001b[0;34m\u001b[0m\u001b[0m\n",
      "\u001b[0;32m/usr/local/lib/python3.7/site-packages/tensorflow_core/python/eager/backprop.py\u001b[0m in \u001b[0;36mgradient\u001b[0;34m(self, target, sources, output_gradients, unconnected_gradients)\u001b[0m\n\u001b[1;32m   1013\u001b[0m         \u001b[0moutput_gradients\u001b[0m\u001b[0;34m=\u001b[0m\u001b[0moutput_gradients\u001b[0m\u001b[0;34m,\u001b[0m\u001b[0;34m\u001b[0m\u001b[0;34m\u001b[0m\u001b[0m\n\u001b[1;32m   1014\u001b[0m         \u001b[0msources_raw\u001b[0m\u001b[0;34m=\u001b[0m\u001b[0mflat_sources_raw\u001b[0m\u001b[0;34m,\u001b[0m\u001b[0;34m\u001b[0m\u001b[0;34m\u001b[0m\u001b[0m\n\u001b[0;32m-> 1015\u001b[0;31m         unconnected_gradients=unconnected_gradients)\n\u001b[0m\u001b[1;32m   1016\u001b[0m \u001b[0;34m\u001b[0m\u001b[0m\n\u001b[1;32m   1017\u001b[0m     \u001b[0;32mif\u001b[0m \u001b[0;32mnot\u001b[0m \u001b[0mself\u001b[0m\u001b[0;34m.\u001b[0m\u001b[0m_persistent\u001b[0m\u001b[0;34m:\u001b[0m\u001b[0;34m\u001b[0m\u001b[0;34m\u001b[0m\u001b[0m\n",
      "\u001b[0;32m/usr/local/lib/python3.7/site-packages/tensorflow_core/python/eager/imperative_grad.py\u001b[0m in \u001b[0;36mimperative_grad\u001b[0;34m(tape, target, sources, output_gradients, sources_raw, unconnected_gradients)\u001b[0m\n\u001b[1;32m     74\u001b[0m       \u001b[0moutput_gradients\u001b[0m\u001b[0;34m,\u001b[0m\u001b[0;34m\u001b[0m\u001b[0;34m\u001b[0m\u001b[0m\n\u001b[1;32m     75\u001b[0m       \u001b[0msources_raw\u001b[0m\u001b[0;34m,\u001b[0m\u001b[0;34m\u001b[0m\u001b[0;34m\u001b[0m\u001b[0m\n\u001b[0;32m---> 76\u001b[0;31m       compat.as_str(unconnected_gradients.value))\n\u001b[0m",
      "\u001b[0;32m/usr/local/lib/python3.7/site-packages/tensorflow_core/python/eager/backprop.py\u001b[0m in \u001b[0;36m_ones\u001b[0;34m(shape, dtype)\u001b[0m\n\u001b[1;32m    655\u001b[0m \u001b[0;34m\u001b[0m\u001b[0m\n\u001b[1;32m    656\u001b[0m \u001b[0;34m\u001b[0m\u001b[0m\n\u001b[0;32m--> 657\u001b[0;31m \u001b[0;32mdef\u001b[0m \u001b[0m_ones\u001b[0m\u001b[0;34m(\u001b[0m\u001b[0mshape\u001b[0m\u001b[0;34m,\u001b[0m \u001b[0mdtype\u001b[0m\u001b[0;34m)\u001b[0m\u001b[0;34m:\u001b[0m\u001b[0;34m\u001b[0m\u001b[0;34m\u001b[0m\u001b[0m\n\u001b[0m\u001b[1;32m    658\u001b[0m   \u001b[0mas_dtype\u001b[0m \u001b[0;34m=\u001b[0m \u001b[0mdtypes\u001b[0m\u001b[0;34m.\u001b[0m\u001b[0mas_dtype\u001b[0m\u001b[0;34m(\u001b[0m\u001b[0mdtype\u001b[0m\u001b[0;34m)\u001b[0m\u001b[0;34m\u001b[0m\u001b[0;34m\u001b[0m\u001b[0m\n\u001b[1;32m    659\u001b[0m   \u001b[0;32mif\u001b[0m \u001b[0mas_dtype\u001b[0m \u001b[0;34m==\u001b[0m \u001b[0mdtypes\u001b[0m\u001b[0;34m.\u001b[0m\u001b[0mstring\u001b[0m\u001b[0;34m:\u001b[0m\u001b[0;34m\u001b[0m\u001b[0;34m\u001b[0m\u001b[0m\n",
      "\u001b[0;31mKeyboardInterrupt\u001b[0m: "
     ]
    }
   ],
   "source": [
    "for ep in range(1, epochs + 1):\n",
    "    with tqdm(total=iterations_per_epoch, desc='Training epoch {}'.format(ep)) as p_bar:\n",
    "        losses = train_online(model=model, \n",
    "                              optimizer=optimizer, \n",
    "                              data_gen=data_gen, \n",
    "                              loss_fun=partial(log_loss, lambd=1), \n",
    "                              iterations=iterations_per_epoch,\n",
    "                              batch_size=batch_size,\n",
    "                              p_bar=p_bar,\n",
    "                              global_step=global_step,\n",
    "                              method='evidence')\n",
    "        manager.save()"
   ]
  },
  {
   "cell_type": "markdown",
   "metadata": {},
   "source": [
    "## Testing\n"
   ]
  },
  {
   "cell_type": "code",
   "execution_count": null,
   "metadata": {},
   "outputs": [],
   "source": [
    "batch_size = 1\n",
    "\n",
    "n_obs = 200\n",
    "\n",
    "n_models = len(forward_models)\n",
    "m_indices = model_prior(batch_size, n_models)\n",
    "  \n",
    "# Sample N, if not specified\n",
    "if n_obs is None:\n",
    "    n_obs = np.random.randint(low=n_obs_min, high=n_obs_max+1)\n",
    "\n",
    "# For each model index, sample from prior and run generative model.\n",
    "x = []\n",
    "\n",
    "for m_idx in m_indices:\n",
    "\n",
    "    # Generate data from x = g_m(theta) <=> x ~ p(x|theta,m)\n",
    "    x_m = np.random.normal(2, 1, n_obs)\n",
    "    # Store data and params\n",
    "    x.append(x_m.reshape(-1, 1))\n",
    "#         theta.append(theta_m)\n",
    "\n",
    "# One-hot encode model indices\n",
    "m = to_categorical(m_indices, num_classes=n_models)\n",
    "\n",
    "\n",
    "x = tf.convert_to_tensor(x, dtype=tf.float32)\n",
    "\n",
    "\n",
    "\n",
    "\n",
    "\n",
    "\n",
    "# x = data_gen(1)\n",
    "print(x.shape)\n",
    "a = model.predict(x, to_numpy=True)\n",
    "print(a)\n",
    "# a['alpha'][0][0] = 2"
   ]
  },
  {
   "cell_type": "code",
   "execution_count": 22,
   "metadata": {},
   "outputs": [
    {
     "name": "stdout",
     "output_type": "stream",
     "text": [
      "(1000000, 2)\n",
      "(1000000, 1, 2)\n",
      "(1000000, 1, 2)\n",
      "(1000000, 2)\n",
      "(1000000,)\n"
     ]
    },
    {
     "data": {
      "text/plain": [
       "<matplotlib.collections.PathCollection at 0x14ec7ae10>"
      ]
     },
     "execution_count": 22,
     "metadata": {},
     "output_type": "execute_result"
    },
    {
     "data": {
      "image/png": "[encoded data removed]",
      "text/plain": [
       "<Figure size 432x288 with 1 Axes>"
      ]
     },
     "metadata": {
      "needs_background": "light"
     },
     "output_type": "display_data"
    }
   ],
   "source": [
    "domain = 3\n",
    "x_lin = np.linspace(-domain+0.5, domain+0.5, 1000)\n",
    "y_lin = np.linspace(-domain, domain, 1000)\n",
    "\n",
    "xx, yy = np.meshgrid(x_lin, y_lin)\n",
    "\n",
    "X_grid = np.column_stack([xx.flatten(), yy.flatten()])\n",
    "\n",
    "X_vis, y_vis = sklearn.datasets.make_moons(n_samples=1000, noise=noise)\n",
    "mask = y_vis.astype(np.bool)\n",
    "\n",
    "# with torch.no_grad():\n",
    "print(X_grid.shape)\n",
    "T = np.expand_dims(X_grid, axis=1)\n",
    "print(T.shape)\n",
    "\n",
    "\n",
    "T = tf.convert_to_tensor(T, dtype=tf.float32)\n",
    "\n",
    "print(T.shape)\n",
    "a = model.predict(T, to_numpy=True)\n",
    "print(a['m_probs'].shape)\n",
    "confidence = a['m_probs'].max(1)\n",
    "print(confidence.shape)\n",
    "# output = model.predict(tf.convert_to_tensor(T, dtype=tf.float32))\n",
    "# print(output)\n",
    "#     confidence = output.max(1)[0].numpy()\n",
    "\n",
    "\n",
    "z = confidence.reshape(xx.shape)\n",
    "\n",
    "plt.figure()\n",
    "plt.contourf(x_lin, y_lin, z, cmap='cividis')\n",
    "\n",
    "plt.scatter(X_vis[mask,0], X_vis[mask,1])\n",
    "plt.scatter(X_vis[~mask,0], X_vis[~mask,1])"
   ]
  },
  {
   "cell_type": "code",
   "execution_count": null,
   "metadata": {},
   "outputs": [],
   "source": [
    "T = np.array([-2, 1]).reshape(1, -1)\n",
    "# print(T.shape)\n",
    "T = tf.convert_to_tensor(np.expand_dims(T, axis=1), dtype=tf.float32)\n",
    "print(T.shape)\n",
    "# print(T.shape)\n",
    "a = model.predict(T, to_numpy=True)\n",
    "print(a)"
   ]
  },
  {
   "cell_type": "code",
   "execution_count": null,
   "metadata": {},
   "outputs": [],
   "source": []
  }
 ],
 "metadata": {
  "kernelspec": {
   "display_name": "Python 3",
   "language": "python",
   "name": "python3"
  },
  "language_info": {
   "codemirror_mode": {
    "name": "ipython",
    "version": 3
   },
   "file_extension": ".py",
   "mimetype": "text/x-python",
   "name": "python",
   "nbconvert_exporter": "python",
   "pygments_lexer": "ipython3",
   "version": "3.7.5"
  }
 },
 "nbformat": 4,
 "nbformat_minor": 2
}
